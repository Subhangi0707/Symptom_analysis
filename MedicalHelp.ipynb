{
 "cells": [
  {
   "cell_type": "code",
   "execution_count": 1,
   "metadata": {
    "colab": {
     "base_uri": "https://localhost:8080/"
    },
    "id": "gkyp78XgaLU6",
    "outputId": "2cc16832-0966-409e-da9e-e9900f484418"
   },
   "outputs": [
    {
     "name": "stdout",
     "output_type": "stream",
     "text": [
      "Defaulting to user installation because normal site-packages is not writeable\n",
      "Requirement already satisfied: pandas in c:\\users\\subha\\appdata\\roaming\\python\\python313\\site-packages (2.2.3)\n",
      "Requirement already satisfied: scikit-learn in c:\\users\\subha\\appdata\\roaming\\python\\python313\\site-packages (1.6.1)\n",
      "Requirement already satisfied: numpy>=1.26.0 in c:\\users\\subha\\appdata\\roaming\\python\\python313\\site-packages (from pandas) (2.2.4)\n",
      "Requirement already satisfied: python-dateutil>=2.8.2 in c:\\users\\subha\\appdata\\roaming\\python\\python313\\site-packages (from pandas) (2.9.0.post0)\n",
      "Requirement already satisfied: pytz>=2020.1 in c:\\users\\subha\\appdata\\roaming\\python\\python313\\site-packages (from pandas) (2025.2)\n",
      "Requirement already satisfied: tzdata>=2022.7 in c:\\users\\subha\\appdata\\roaming\\python\\python313\\site-packages (from pandas) (2025.2)\n",
      "Requirement already satisfied: scipy>=1.6.0 in c:\\users\\subha\\appdata\\roaming\\python\\python313\\site-packages (from scikit-learn) (1.15.2)\n",
      "Requirement already satisfied: joblib>=1.2.0 in c:\\users\\subha\\appdata\\roaming\\python\\python313\\site-packages (from scikit-learn) (1.4.2)\n",
      "Requirement already satisfied: threadpoolctl>=3.1.0 in c:\\users\\subha\\appdata\\roaming\\python\\python313\\site-packages (from scikit-learn) (3.6.0)\n",
      "Requirement already satisfied: six>=1.5 in c:\\users\\subha\\appdata\\roaming\\python\\python313\\site-packages (from python-dateutil>=2.8.2->pandas) (1.17.0)\n"
     ]
    },
    {
     "name": "stderr",
     "output_type": "stream",
     "text": [
      "\n",
      "[notice] A new release of pip is available: 25.0.1 -> 25.1.1\n",
      "[notice] To update, run: python.exe -m pip install --upgrade pip\n"
     ]
    }
   ],
   "source": [
    "!pip install pandas scikit-learn"
   ]
  },
  {
   "cell_type": "code",
   "execution_count": 2,
   "metadata": {
    "colab": {
     "base_uri": "https://localhost:8080/"
    },
    "id": "mm5ji_6OefKG",
    "outputId": "923d4322-d42c-431f-f4df-570c8b718b11"
   },
   "outputs": [
    {
     "name": "stdout",
     "output_type": "stream",
     "text": [
      "❗ Duplicate rows in dataset: 4616\n",
      "Index(['itching', 'skin_rash', 'nodal_skin_eruptions', 'continuous_sneezing',\n",
      "       'shivering', 'chills', 'joint_pain', 'stomach_pain', 'acidity',\n",
      "       'ulcers_on_tongue',\n",
      "       ...\n",
      "       'blackheads', 'scurring', 'skin_peeling', 'silver_like_dusting',\n",
      "       'small_dents_in_nails', 'inflammatory_nails', 'blister',\n",
      "       'red_sore_around_nose', 'yellow_crust_ooze', 'prognosis'],\n",
      "      dtype='object', length=133)\n"
     ]
    }
   ],
   "source": [
    "import pandas as pd\n",
    "dataset=pd.read_csv('Training.csv')\n",
    "# dataset\n",
    "duplicates = dataset.duplicated().sum()\n",
    "print(f\"❗ Duplicate rows in dataset: {duplicates}\")\n",
    "print(dataset.columns)"
   ]
  },
  {
   "cell_type": "code",
   "execution_count": 3,
   "metadata": {
    "colab": {
     "base_uri": "https://localhost:8080/"
    },
    "id": "iUK4xiD_jXfk",
    "outputId": "04762c8c-8942-4bd8-e70f-750eb010d3b3"
   },
   "outputs": [
    {
     "name": "stdout",
     "output_type": "stream",
     "text": [
      "✅ New dataset shape after removing duplicates: (304, 133)\n",
      "❌ Removed duplicates: 4616\n"
     ]
    }
   ],
   "source": [
    "df_cleaned = dataset.drop_duplicates()\n",
    "\n",
    "print(\"✅ New dataset shape after removing duplicates:\", df_cleaned.shape)\n",
    "print(\"❌ Removed duplicates:\", dataset.shape[0] - df_cleaned.shape[0])"
   ]
  },
  {
   "cell_type": "code",
   "execution_count": 4,
   "metadata": {
    "id": "KKcKVyuTeoxh"
   },
   "outputs": [],
   "source": [
    "from sklearn.model_selection import train_test_split\n",
    "from sklearn.preprocessing import LabelEncoder\n",
    "\n",
    "x=dataset.drop('prognosis', axis=1)\n",
    "y=dataset['prognosis']\n",
    "\n",
    "le=LabelEncoder()\n",
    "y_encoded=le.fit_transform(y)\n",
    "\n",
    "# print(x)\n",
    "# print(y_encoded)\n",
    "X_train, X_test, y_train, y_test=train_test_split(x,y, test_size=0.4, random_state=42, stratify=y)"
   ]
  },
  {
   "cell_type": "code",
   "execution_count": 5,
   "metadata": {
    "id": "IWcnzDl5fuKX"
   },
   "outputs": [],
   "source": [
    "from sklearn.svm import SVC\n",
    "\n",
    "svc_model=SVC(kernel=\"linear\", decision_function_shape=\"ovr\")\n",
    "svc_model.fit(X_train, y_train)\n",
    "y_pred=svc_model.predict(X_test)"
   ]
  },
  {
   "cell_type": "code",
   "execution_count": 6,
   "metadata": {
    "colab": {
     "base_uri": "https://localhost:8080/"
    },
    "id": "tZvlwzr9gBzV",
    "outputId": "934ffbe5-1456-4229-b8aa-a0c8b4d1ab70"
   },
   "outputs": [
    {
     "name": "stdout",
     "output_type": "stream",
     "text": [
      "✅ Accuracy: 1.0\n",
      "\n",
      "📊 Classification Report:\n",
      "                                          precision    recall  f1-score   support\n",
      "\n",
      "(vertigo) Paroymsal  Positional Vertigo       1.00      1.00      1.00        48\n",
      "                                   AIDS       1.00      1.00      1.00        48\n",
      "                                   Acne       1.00      1.00      1.00        48\n",
      "                    Alcoholic hepatitis       1.00      1.00      1.00        48\n",
      "                                Allergy       1.00      1.00      1.00        48\n",
      "                              Arthritis       1.00      1.00      1.00        48\n",
      "                       Bronchial Asthma       1.00      1.00      1.00        48\n",
      "                   Cervical spondylosis       1.00      1.00      1.00        48\n",
      "                            Chicken pox       1.00      1.00      1.00        48\n",
      "                    Chronic cholestasis       1.00      1.00      1.00        48\n",
      "                            Common Cold       1.00      1.00      1.00        48\n",
      "                                 Dengue       1.00      1.00      1.00        48\n",
      "                              Diabetes        1.00      1.00      1.00        48\n",
      "           Dimorphic hemmorhoids(piles)       1.00      1.00      1.00        48\n",
      "                          Drug Reaction       1.00      1.00      1.00        48\n",
      "                       Fungal infection       1.00      1.00      1.00        48\n",
      "                                   GERD       1.00      1.00      1.00        48\n",
      "                        Gastroenteritis       1.00      1.00      1.00        48\n",
      "                           Heart attack       1.00      1.00      1.00        48\n",
      "                            Hepatitis B       1.00      1.00      1.00        48\n",
      "                            Hepatitis C       1.00      1.00      1.00        48\n",
      "                            Hepatitis D       1.00      1.00      1.00        48\n",
      "                            Hepatitis E       1.00      1.00      1.00        48\n",
      "                          Hypertension        1.00      1.00      1.00        48\n",
      "                        Hyperthyroidism       1.00      1.00      1.00        48\n",
      "                           Hypoglycemia       1.00      1.00      1.00        48\n",
      "                         Hypothyroidism       1.00      1.00      1.00        48\n",
      "                               Impetigo       1.00      1.00      1.00        48\n",
      "                               Jaundice       1.00      1.00      1.00        48\n",
      "                                Malaria       1.00      1.00      1.00        48\n",
      "                               Migraine       1.00      1.00      1.00        48\n",
      "                        Osteoarthristis       1.00      1.00      1.00        48\n",
      "           Paralysis (brain hemorrhage)       1.00      1.00      1.00        48\n",
      "                    Peptic ulcer diseae       1.00      1.00      1.00        48\n",
      "                              Pneumonia       1.00      1.00      1.00        48\n",
      "                              Psoriasis       1.00      1.00      1.00        48\n",
      "                           Tuberculosis       1.00      1.00      1.00        48\n",
      "                                Typhoid       1.00      1.00      1.00        48\n",
      "                Urinary tract infection       1.00      1.00      1.00        48\n",
      "                         Varicose veins       1.00      1.00      1.00        48\n",
      "                            hepatitis A       1.00      1.00      1.00        48\n",
      "\n",
      "                               accuracy                           1.00      1968\n",
      "                              macro avg       1.00      1.00      1.00      1968\n",
      "                           weighted avg       1.00      1.00      1.00      1968\n",
      "\n",
      "\n",
      "🧮 Confusion Matrix:\n",
      " [[48  0  0 ...  0  0  0]\n",
      " [ 0 48  0 ...  0  0  0]\n",
      " [ 0  0 48 ...  0  0  0]\n",
      " ...\n",
      " [ 0  0  0 ... 48  0  0]\n",
      " [ 0  0  0 ...  0 48  0]\n",
      " [ 0  0  0 ...  0  0 48]]\n"
     ]
    }
   ],
   "source": [
    "from sklearn.metrics import accuracy_score, classification_report, confusion_matrix\n",
    "\n",
    "print(\"✅ Accuracy:\", accuracy_score(y_test, y_pred))\n",
    "print(\"\\n📊 Classification Report:\\n\", classification_report(y_test, y_pred, target_names=le.classes_))\n",
    "print(\"\\n🧮 Confusion Matrix:\\n\", confusion_matrix(y_test, y_pred))"
   ]
  },
  {
   "cell_type": "code",
   "execution_count": 7,
   "metadata": {
    "colab": {
     "base_uri": "https://localhost:8080/"
    },
    "id": "Eig51CzDhIpN",
    "outputId": "063e5879-dc69-476f-e2fb-5f2ad8bb701e"
   },
   "outputs": [
    {
     "name": "stdout",
     "output_type": "stream",
     "text": [
      "❗ Duplicate rows in dataset: 4616\n",
      "✅ New dataset shape: (304, 133)\n",
      "📊 Accuracy with noise: 68.85%\n"
     ]
    }
   ],
   "source": [
    "import pandas as pd\n",
    "import numpy as np\n",
    "from sklearn.model_selection import train_test_split\n",
    "from sklearn.preprocessing import LabelEncoder\n",
    "from sklearn.svm import SVC\n",
    "from sklearn.metrics import accuracy_score\n",
    "\n",
    "dataset = pd.read_csv('Training.csv')\n",
    "print(f\"❗ Duplicate rows in dataset: {dataset.duplicated().sum()}\")\n",
    "df_cleaned = dataset.drop_duplicates()\n",
    "print(\"✅ New dataset shape:\", df_cleaned.shape)\n",
    "\n",
    "X = df_cleaned.drop('prognosis', axis=1)\n",
    "y = df_cleaned['prognosis']\n",
    "\n",
    "le = LabelEncoder()\n",
    "y_encoded = le.fit_transform(y)\n",
    "\n",
    "def add_noise(X, noise_level=0.05, seed=42):\n",
    "    np.random.seed(seed)\n",
    "    X_noised = X.copy()\n",
    "    for col in X.columns:\n",
    "        flip_mask = np.random.rand(len(X)) < noise_level\n",
    "        X_noised[col] = np.where(flip_mask, 1 - X[col], X[col])\n",
    "    return X_noised\n",
    "\n",
    "X_noised = add_noise(X, noise_level=0.12)\n",
    "\n",
    "X_train, X_test, y_train, y_test = train_test_split(\n",
    "    X_noised, y_encoded, test_size=0.4, random_state=42, stratify=y_encoded\n",
    ")\n",
    "svc_model = SVC(kernel=\"linear\", decision_function_shape=\"ovr\")\n",
    "svc_model.fit(X_train, y_train)\n",
    "\n",
    "y_pred = svc_model.predict(X_test)\n",
    "accuracy = accuracy_score(y_test, y_pred)\n",
    "print(f\"📊 Accuracy with noise: {accuracy * 100:.2f}%\")"
   ]
  },
  {
   "cell_type": "code",
   "execution_count": 8,
   "metadata": {
    "colab": {
     "base_uri": "https://localhost:8080/"
    },
    "id": "SLmodmOGrYYX",
    "outputId": "284afa63-3d3c-4380-a066-4928651cbc98"
   },
   "outputs": [
    {
     "name": "stdout",
     "output_type": "stream",
     "text": [
      "✅ Training data shape: (304, 133)\n",
      "📊 Accuracy with noise: 68.85%\n"
     ]
    },
    {
     "name": "stdin",
     "output_type": "stream",
     "text": [
      "\n",
      "🩺 Enter symptoms separated by commas:  fever,cough\n"
     ]
    },
    {
     "name": "stdout",
     "output_type": "stream",
     "text": [
      "\n",
      "==================== Predicted Disease ====================\n",
      "Drug Reaction\n",
      "\n",
      "==================== Description ====================\n",
      "Drug Reaction occurs when the body reacts adversely to a medication.\n",
      "\n",
      "==================== Precautions ====================\n",
      "1: Drug Reaction\n",
      "2: stop irritation\n",
      "3: consult nearest hospital\n",
      "4: stop taking drug\n",
      "5: follow up\n",
      "\n",
      "==================== Medications ====================\n",
      "1: ['Antihistamines', 'Epinephrine', 'Corticosteroids', 'Antibiotics', 'Antifungal Cream']\n",
      "\n",
      "==================== Workouts ====================\n",
      "1: Discontinue offending medication\n",
      "2: Stay hydrated\n",
      "3: Include anti-inflammatory foods\n",
      "4: Consume antioxidants\n",
      "5: Avoid trigger foods\n",
      "6: Include omega-3 fatty acids\n",
      "7: Limit caffeine and alcohol\n",
      "8: Stay hydrated\n",
      "9: Eat a balanced diet\n",
      "10: Consult a healthcare professional\n",
      "\n",
      "==================== Diet ====================\n",
      "1: ['Antihistamine Diet', 'Omega-3-rich foods', 'Vitamin C-rich foods', 'Quercetin-rich foods', 'Probiotics']\n"
     ]
    },
    {
     "name": "stderr",
     "output_type": "stream",
     "text": [
      "C:\\Users\\subha\\AppData\\Local\\Programs\\Python\\Python311\\Lib\\site-packages\\sklearn\\base.py:493: UserWarning: X does not have valid feature names, but SVC was fitted with feature names\n",
      "  warnings.warn(\n"
     ]
    }
   ],
   "source": [
    "import pandas as pd\n",
    "import numpy as np\n",
    "from sklearn.svm import SVC\n",
    "from sklearn.model_selection import train_test_split\n",
    "from sklearn.preprocessing import LabelEncoder\n",
    "from sklearn.metrics import accuracy_score\n",
    "\n",
    "dataset = pd.read_csv('Training.csv')\n",
    "dataset = dataset.drop_duplicates()\n",
    "print(\"✅ Training data shape:\", dataset.shape)\n",
    "\n",
    "X = dataset.drop('prognosis', axis=1)\n",
    "y = dataset['prognosis']\n",
    "\n",
    "le = LabelEncoder()\n",
    "y_encoded = le.fit_transform(y)\n",
    "\n",
    "def add_noise(X, noise_level=0.05, seed=42):\n",
    "    np.random.seed(seed)\n",
    "    X_noised = X.copy()\n",
    "    for col in X.columns:\n",
    "        flip_mask = np.random.rand(len(X)) < noise_level\n",
    "        X_noised[col] = np.where(flip_mask, 1 - X[col], X[col])\n",
    "    return X_noised\n",
    "\n",
    "X_noised = add_noise(X, noise_level=0.12)\n",
    "\n",
    "X_train, X_test, y_train, y_test = train_test_split(\n",
    "    X_noised, y_encoded, test_size=0.4, random_state=42, stratify=y_encoded\n",
    ")\n",
    "svc_model = SVC(kernel=\"linear\", decision_function_shape=\"ovr\")\n",
    "svc_model.fit(X_train, y_train)\n",
    "\n",
    "y_pred = svc_model.predict(X_test)\n",
    "accuracy = accuracy_score(y_test, y_pred)\n",
    "print(f\"📊 Accuracy with noise: {accuracy * 100:.2f}%\")\n",
    "\n",
    "#Datsets\n",
    "description_df = pd.read_csv('description.csv')\n",
    "precautions_df = pd.read_csv('precautions_df.csv')\n",
    "medications_df = pd.read_csv('medications.csv')\n",
    "diets_df = pd.read_csv('diets.csv')\n",
    "workout_df = pd.read_csv('workout_df.csv')\n",
    "\n",
    "\n",
    "symptoms_dict = {symptom: idx for idx, symptom in enumerate(X.columns)}\n",
    "\n",
    "diseases_list = {i: disease for i, disease in enumerate(le.classes_)}\n",
    "\n",
    "def predict_disease(symptom_list):\n",
    "    input_vector = np.zeros(len(symptoms_dict))\n",
    "    for symptom in symptom_list:\n",
    "        symptom = symptom.strip().lower().replace(\" \", \"_\")\n",
    "        if symptom in symptoms_dict:\n",
    "            input_vector[symptoms_dict[symptom]] = 1\n",
    "    pred_class = svc_model.predict([input_vector])[0]\n",
    "    return diseases_list[pred_class]\n",
    "\n",
    "\n",
    "def get_information(disease):\n",
    "    # Description\n",
    "    desc = description_df[description_df['Disease'] == disease]['Description']\n",
    "    desc = desc.values[0] if not desc.empty else \"Description not available.\"\n",
    "\n",
    "    # Precautions\n",
    "    pre_row = precautions_df[precautions_df['Disease'] == disease]\n",
    "    pre_list = pre_row.iloc[0, 1:].tolist() if not pre_row.empty else []\n",
    "\n",
    "    # Medications\n",
    "    meds = medications_df[medications_df['Disease'] == disease]['Medication'].tolist()\n",
    "\n",
    "    # Diets\n",
    "    diet_list = diets_df[diets_df['Disease'] == disease]['Diet'].tolist()\n",
    "\n",
    "    # Workout\n",
    "    wrk = workout_df[workout_df['disease'] == disease]['workout'].tolist()\n",
    "\n",
    "    return desc, pre_list, meds, diet_list, wrk\n",
    "\n",
    "#User input and display\n",
    "def run_prediction():\n",
    "    user_input = input(\"\\n🩺 Enter symptoms separated by commas: \")\n",
    "    symptoms = [s.strip() for s in user_input.split(',')]\n",
    "\n",
    "    predicted = predict_disease(symptoms)\n",
    "    desc, precautions, meds, diet, workout = get_information(predicted)\n",
    "\n",
    "    print(\"\\n==================== Predicted Disease ====================\")\n",
    "    print(predicted)\n",
    "\n",
    "    print(\"\\n==================== Description ====================\")\n",
    "    print(desc)\n",
    "\n",
    "    print(\"\\n==================== Precautions ====================\")\n",
    "    for i, pre in enumerate(precautions, 1):\n",
    "        print(f\"{i}: {pre}\")\n",
    "\n",
    "    print(\"\\n==================== Medications ====================\")\n",
    "    for i, med in enumerate(meds, 1):\n",
    "        print(f\"{i}: {med}\")\n",
    "\n",
    "    print(\"\\n==================== Workouts ====================\")\n",
    "    for i, w in enumerate(workout, 1):\n",
    "        print(f\"{i}: {w}\")\n",
    "\n",
    "    print(\"\\n==================== Diet ====================\")\n",
    "    for i, d in enumerate(diet, 1):\n",
    "        print(f\"{i}: {d}\")\n",
    "\n",
    "# ================== RUN =====================\n",
    "run_prediction()\n"
   ]
  },
  {
   "cell_type": "code",
   "execution_count": 9,
   "metadata": {
    "id": "Gva6-4bAr_QZ"
   },
   "outputs": [
    {
     "name": "stdout",
     "output_type": "stream",
     "text": [
      "✅ Cleaned dataset saved as cleaned_medical_data.pkl\n"
     ]
    }
   ],
   "source": [
    "import pandas as pd\n",
    "\n",
    "# Load the dataset\n",
    "dataset = pd.read_csv('Training.csv')\n",
    "\n",
    "# Remove duplicates\n",
    "df_cleaned = dataset.drop_duplicates()\n",
    "\n",
    "# Save as pkl file\n",
    "df_cleaned.to_pickle('cleaned_medical_data.pkl')\n",
    "\n",
    "print(\"✅ Cleaned dataset saved as cleaned_medical_data.pkl\")\n"
   ]
  }
 ],
 "metadata": {
  "colab": {
   "provenance": []
  },
  "kernelspec": {
   "display_name": "Python 3 (ipykernel)",
   "language": "python",
   "name": "python3"
  },
  "language_info": {
   "codemirror_mode": {
    "name": "ipython",
    "version": 3
   },
   "file_extension": ".py",
   "mimetype": "text/x-python",
   "name": "python",
   "nbconvert_exporter": "python",
   "pygments_lexer": "ipython3",
   "version": "3.11.0"
  }
 },
 "nbformat": 4,
 "nbformat_minor": 4
}
